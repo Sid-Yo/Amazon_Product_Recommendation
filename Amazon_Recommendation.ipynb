{
  "nbformat": 4,
  "nbformat_minor": 0,
  "metadata": {
    "colab": {
      "name": "Amazon Recommendation.ipynb",
      "provenance": [],
      "toc_visible": true,
      "authorship_tag": "ABX9TyNKOo/N8olYUpQYqmPwFNiU",
      "include_colab_link": true
    },
    "kernelspec": {
      "name": "python3",
      "display_name": "Python 3"
    }
  },
  "cells": [
    {
      "cell_type": "markdown",
      "metadata": {
        "id": "view-in-github",
        "colab_type": "text"
      },
      "source": [
        "<a href=\"https://colab.research.google.com/github/Sid-Yo/Amazon_Product_Recommendation/blob/master/Amazon_Recommendation.ipynb\" target=\"_parent\"><img src=\"https://colab.research.google.com/assets/colab-badge.svg\" alt=\"Open In Colab\"/></a>"
      ]
    },
    {
      "cell_type": "code",
      "metadata": {
        "id": "ODrAaIY3AC4p",
        "colab_type": "code",
        "colab": {}
      },
      "source": [
        "from google.colab import files\n",
        "files.upload()"
      ],
      "execution_count": null,
      "outputs": []
    },
    {
      "cell_type": "code",
      "metadata": {
        "id": "is8_KxR97D9g",
        "colab_type": "code",
        "colab": {
          "base_uri": "https://localhost:8080/",
          "height": 235
        },
        "outputId": "9b02f215-7037-4c9b-fcae-43de26c7f0d1"
      },
      "source": [
        "import numpy as np\n",
        "import pandas as pd\n",
        "ama_data = pd.read_csv('amazon_transaction.csv',index_col = 0)\n",
        "ama_data.head(5)"
      ],
      "execution_count": null,
      "outputs": [
        {
          "output_type": "execute_result",
          "data": {
            "text/html": [
              "<div>\n",
              "<style scoped>\n",
              "    .dataframe tbody tr th:only-of-type {\n",
              "        vertical-align: middle;\n",
              "    }\n",
              "\n",
              "    .dataframe tbody tr th {\n",
              "        vertical-align: top;\n",
              "    }\n",
              "\n",
              "    .dataframe thead th {\n",
              "        text-align: right;\n",
              "    }\n",
              "</style>\n",
              "<table border=\"1\" class=\"dataframe\">\n",
              "  <thead>\n",
              "    <tr style=\"text-align: right;\">\n",
              "      <th></th>\n",
              "      <th>Product</th>\n",
              "      <th>Quantity Ordered</th>\n",
              "      <th>Price Each</th>\n",
              "      <th>Order Date</th>\n",
              "      <th>Purchase Address</th>\n",
              "    </tr>\n",
              "    <tr>\n",
              "      <th>Order ID</th>\n",
              "      <th></th>\n",
              "      <th></th>\n",
              "      <th></th>\n",
              "      <th></th>\n",
              "      <th></th>\n",
              "    </tr>\n",
              "  </thead>\n",
              "  <tbody>\n",
              "    <tr>\n",
              "      <th>176558</th>\n",
              "      <td>USB-C Charging Cable</td>\n",
              "      <td>2</td>\n",
              "      <td>11.95</td>\n",
              "      <td>04/19/19 08:46</td>\n",
              "      <td>917 1st St, Dallas, TX 75001</td>\n",
              "    </tr>\n",
              "    <tr>\n",
              "      <th>NaN</th>\n",
              "      <td>NaN</td>\n",
              "      <td>NaN</td>\n",
              "      <td>NaN</td>\n",
              "      <td>NaN</td>\n",
              "      <td>NaN</td>\n",
              "    </tr>\n",
              "    <tr>\n",
              "      <th>176559</th>\n",
              "      <td>Bose SoundSport Headphones</td>\n",
              "      <td>1</td>\n",
              "      <td>99.99</td>\n",
              "      <td>04/07/19 22:30</td>\n",
              "      <td>682 Chestnut St, Boston, MA 02215</td>\n",
              "    </tr>\n",
              "    <tr>\n",
              "      <th>176560</th>\n",
              "      <td>Google Phone</td>\n",
              "      <td>1</td>\n",
              "      <td>600</td>\n",
              "      <td>04/12/19 14:38</td>\n",
              "      <td>669 Spruce St, Los Angeles, CA 90001</td>\n",
              "    </tr>\n",
              "    <tr>\n",
              "      <th>176560</th>\n",
              "      <td>Wired Headphones</td>\n",
              "      <td>1</td>\n",
              "      <td>11.99</td>\n",
              "      <td>04/12/19 14:38</td>\n",
              "      <td>669 Spruce St, Los Angeles, CA 90001</td>\n",
              "    </tr>\n",
              "  </tbody>\n",
              "</table>\n",
              "</div>"
            ],
            "text/plain": [
              "                             Product  ...                      Purchase Address\n",
              "Order ID                              ...                                      \n",
              "176558          USB-C Charging Cable  ...          917 1st St, Dallas, TX 75001\n",
              "NaN                              NaN  ...                                   NaN\n",
              "176559    Bose SoundSport Headphones  ...     682 Chestnut St, Boston, MA 02215\n",
              "176560                  Google Phone  ...  669 Spruce St, Los Angeles, CA 90001\n",
              "176560              Wired Headphones  ...  669 Spruce St, Los Angeles, CA 90001\n",
              "\n",
              "[5 rows x 5 columns]"
            ]
          },
          "metadata": {
            "tags": []
          },
          "execution_count": 1
        }
      ]
    },
    {
      "cell_type": "markdown",
      "metadata": {
        "id": "RyXHGrzHnZkD",
        "colab_type": "text"
      },
      "source": [
        "# Clearing unrequired data (NaN)"
      ]
    },
    {
      "cell_type": "code",
      "metadata": {
        "id": "CLyQMqS27Z8Z",
        "colab_type": "code",
        "colab": {
          "base_uri": "https://localhost:8080/",
          "height": 235
        },
        "outputId": "83754bb8-cd74-4e6e-a00d-6c9c90013a53"
      },
      "source": [
        "amazon_data=ama_data.dropna()\n",
        "amazon_data.head()"
      ],
      "execution_count": null,
      "outputs": [
        {
          "output_type": "execute_result",
          "data": {
            "text/html": [
              "<div>\n",
              "<style scoped>\n",
              "    .dataframe tbody tr th:only-of-type {\n",
              "        vertical-align: middle;\n",
              "    }\n",
              "\n",
              "    .dataframe tbody tr th {\n",
              "        vertical-align: top;\n",
              "    }\n",
              "\n",
              "    .dataframe thead th {\n",
              "        text-align: right;\n",
              "    }\n",
              "</style>\n",
              "<table border=\"1\" class=\"dataframe\">\n",
              "  <thead>\n",
              "    <tr style=\"text-align: right;\">\n",
              "      <th></th>\n",
              "      <th>Product</th>\n",
              "      <th>Quantity Ordered</th>\n",
              "      <th>Price Each</th>\n",
              "      <th>Order Date</th>\n",
              "      <th>Purchase Address</th>\n",
              "    </tr>\n",
              "    <tr>\n",
              "      <th>Order ID</th>\n",
              "      <th></th>\n",
              "      <th></th>\n",
              "      <th></th>\n",
              "      <th></th>\n",
              "      <th></th>\n",
              "    </tr>\n",
              "  </thead>\n",
              "  <tbody>\n",
              "    <tr>\n",
              "      <th>176558</th>\n",
              "      <td>USB-C Charging Cable</td>\n",
              "      <td>2</td>\n",
              "      <td>11.95</td>\n",
              "      <td>04/19/19 08:46</td>\n",
              "      <td>917 1st St, Dallas, TX 75001</td>\n",
              "    </tr>\n",
              "    <tr>\n",
              "      <th>176559</th>\n",
              "      <td>Bose SoundSport Headphones</td>\n",
              "      <td>1</td>\n",
              "      <td>99.99</td>\n",
              "      <td>04/07/19 22:30</td>\n",
              "      <td>682 Chestnut St, Boston, MA 02215</td>\n",
              "    </tr>\n",
              "    <tr>\n",
              "      <th>176560</th>\n",
              "      <td>Google Phone</td>\n",
              "      <td>1</td>\n",
              "      <td>600</td>\n",
              "      <td>04/12/19 14:38</td>\n",
              "      <td>669 Spruce St, Los Angeles, CA 90001</td>\n",
              "    </tr>\n",
              "    <tr>\n",
              "      <th>176560</th>\n",
              "      <td>Wired Headphones</td>\n",
              "      <td>1</td>\n",
              "      <td>11.99</td>\n",
              "      <td>04/12/19 14:38</td>\n",
              "      <td>669 Spruce St, Los Angeles, CA 90001</td>\n",
              "    </tr>\n",
              "    <tr>\n",
              "      <th>176561</th>\n",
              "      <td>Wired Headphones</td>\n",
              "      <td>1</td>\n",
              "      <td>11.99</td>\n",
              "      <td>04/30/19 09:27</td>\n",
              "      <td>333 8th St, Los Angeles, CA 90001</td>\n",
              "    </tr>\n",
              "  </tbody>\n",
              "</table>\n",
              "</div>"
            ],
            "text/plain": [
              "                             Product  ...                      Purchase Address\n",
              "Order ID                              ...                                      \n",
              "176558          USB-C Charging Cable  ...          917 1st St, Dallas, TX 75001\n",
              "176559    Bose SoundSport Headphones  ...     682 Chestnut St, Boston, MA 02215\n",
              "176560                  Google Phone  ...  669 Spruce St, Los Angeles, CA 90001\n",
              "176560              Wired Headphones  ...  669 Spruce St, Los Angeles, CA 90001\n",
              "176561              Wired Headphones  ...     333 8th St, Los Angeles, CA 90001\n",
              "\n",
              "[5 rows x 5 columns]"
            ]
          },
          "metadata": {
            "tags": []
          },
          "execution_count": 2
        }
      ]
    },
    {
      "cell_type": "markdown",
      "metadata": {
        "id": "JFjNx6uruYhM",
        "colab_type": "text"
      },
      "source": [
        "#Clearing unrequired data\n",
        "Removed enteries with no order ID "
      ]
    },
    {
      "cell_type": "code",
      "metadata": {
        "id": "99SK2OivqwJ9",
        "colab_type": "code",
        "colab": {
          "base_uri": "https://localhost:8080/",
          "height": 122
        },
        "outputId": "501c1e57-0586-4f80-d509-944b452c916b"
      },
      "source": [
        "amazon_data.drop([\"Order ID\"], inplace = True) "
      ],
      "execution_count": null,
      "outputs": [
        {
          "output_type": "stream",
          "text": [
            "/usr/local/lib/python3.6/dist-packages/pandas/core/frame.py:3997: SettingWithCopyWarning: \n",
            "A value is trying to be set on a copy of a slice from a DataFrame\n",
            "\n",
            "See the caveats in the documentation: https://pandas.pydata.org/pandas-docs/stable/user_guide/indexing.html#returning-a-view-versus-a-copy\n",
            "  errors=errors,\n"
          ],
          "name": "stderr"
        }
      ]
    },
    {
      "cell_type": "markdown",
      "metadata": {
        "id": "29OoxEjXuses",
        "colab_type": "text"
      },
      "source": [
        "#Converting entire price column in float format"
      ]
    },
    {
      "cell_type": "code",
      "metadata": {
        "id": "tMDh6S63rS1o",
        "colab_type": "code",
        "colab": {
          "base_uri": "https://localhost:8080/",
          "height": 139
        },
        "outputId": "155079c6-fdb0-4b0f-c6f1-54cfe43d88f1"
      },
      "source": [
        "amazon_data['Price Each'] = amazon_data['Price Each'].astype(float)"
      ],
      "execution_count": null,
      "outputs": [
        {
          "output_type": "stream",
          "text": [
            "/usr/local/lib/python3.6/dist-packages/ipykernel_launcher.py:1: SettingWithCopyWarning: \n",
            "A value is trying to be set on a copy of a slice from a DataFrame.\n",
            "Try using .loc[row_indexer,col_indexer] = value instead\n",
            "\n",
            "See the caveats in the documentation: https://pandas.pydata.org/pandas-docs/stable/user_guide/indexing.html#returning-a-view-versus-a-copy\n",
            "  \"\"\"Entry point for launching an IPython kernel.\n"
          ],
          "name": "stderr"
        }
      ]
    },
    {
      "cell_type": "markdown",
      "metadata": {
        "id": "j0Zq4FQAn9sS",
        "colab_type": "text"
      },
      "source": [
        "# Updating dataframe \n",
        "Shifted order id column for future references\n"
      ]
    },
    {
      "cell_type": "code",
      "metadata": {
        "id": "WWGzfIIGAOyM",
        "colab_type": "code",
        "colab": {
          "base_uri": "https://localhost:8080/",
          "height": 359
        },
        "outputId": "3e88acee-0f65-459d-ef1b-a87abb8ff0d7"
      },
      "source": [
        "azn_data=amazon_data.reset_index(drop=False)\n",
        "azn_data.head(10)"
      ],
      "execution_count": null,
      "outputs": [
        {
          "output_type": "execute_result",
          "data": {
            "text/html": [
              "<div>\n",
              "<style scoped>\n",
              "    .dataframe tbody tr th:only-of-type {\n",
              "        vertical-align: middle;\n",
              "    }\n",
              "\n",
              "    .dataframe tbody tr th {\n",
              "        vertical-align: top;\n",
              "    }\n",
              "\n",
              "    .dataframe thead th {\n",
              "        text-align: right;\n",
              "    }\n",
              "</style>\n",
              "<table border=\"1\" class=\"dataframe\">\n",
              "  <thead>\n",
              "    <tr style=\"text-align: right;\">\n",
              "      <th></th>\n",
              "      <th>Order ID</th>\n",
              "      <th>Product</th>\n",
              "      <th>Quantity Ordered</th>\n",
              "      <th>Price Each</th>\n",
              "      <th>Order Date</th>\n",
              "      <th>Purchase Address</th>\n",
              "    </tr>\n",
              "  </thead>\n",
              "  <tbody>\n",
              "    <tr>\n",
              "      <th>0</th>\n",
              "      <td>176558</td>\n",
              "      <td>USB-C Charging Cable</td>\n",
              "      <td>2</td>\n",
              "      <td>11.95</td>\n",
              "      <td>04/19/19 08:46</td>\n",
              "      <td>917 1st St, Dallas, TX 75001</td>\n",
              "    </tr>\n",
              "    <tr>\n",
              "      <th>1</th>\n",
              "      <td>176559</td>\n",
              "      <td>Bose SoundSport Headphones</td>\n",
              "      <td>1</td>\n",
              "      <td>99.99</td>\n",
              "      <td>04/07/19 22:30</td>\n",
              "      <td>682 Chestnut St, Boston, MA 02215</td>\n",
              "    </tr>\n",
              "    <tr>\n",
              "      <th>2</th>\n",
              "      <td>176560</td>\n",
              "      <td>Google Phone</td>\n",
              "      <td>1</td>\n",
              "      <td>600.00</td>\n",
              "      <td>04/12/19 14:38</td>\n",
              "      <td>669 Spruce St, Los Angeles, CA 90001</td>\n",
              "    </tr>\n",
              "    <tr>\n",
              "      <th>3</th>\n",
              "      <td>176560</td>\n",
              "      <td>Wired Headphones</td>\n",
              "      <td>1</td>\n",
              "      <td>11.99</td>\n",
              "      <td>04/12/19 14:38</td>\n",
              "      <td>669 Spruce St, Los Angeles, CA 90001</td>\n",
              "    </tr>\n",
              "    <tr>\n",
              "      <th>4</th>\n",
              "      <td>176561</td>\n",
              "      <td>Wired Headphones</td>\n",
              "      <td>1</td>\n",
              "      <td>11.99</td>\n",
              "      <td>04/30/19 09:27</td>\n",
              "      <td>333 8th St, Los Angeles, CA 90001</td>\n",
              "    </tr>\n",
              "    <tr>\n",
              "      <th>5</th>\n",
              "      <td>176562</td>\n",
              "      <td>USB-C Charging Cable</td>\n",
              "      <td>1</td>\n",
              "      <td>11.95</td>\n",
              "      <td>04/29/19 13:03</td>\n",
              "      <td>381 Wilson St, San Francisco, CA 94016</td>\n",
              "    </tr>\n",
              "    <tr>\n",
              "      <th>6</th>\n",
              "      <td>176563</td>\n",
              "      <td>Bose SoundSport Headphones</td>\n",
              "      <td>1</td>\n",
              "      <td>99.99</td>\n",
              "      <td>04/02/19 07:46</td>\n",
              "      <td>668 Center St, Seattle, WA 98101</td>\n",
              "    </tr>\n",
              "    <tr>\n",
              "      <th>7</th>\n",
              "      <td>176564</td>\n",
              "      <td>USB-C Charging Cable</td>\n",
              "      <td>1</td>\n",
              "      <td>11.95</td>\n",
              "      <td>04/12/19 10:58</td>\n",
              "      <td>790 Ridge St, Atlanta, GA 30301</td>\n",
              "    </tr>\n",
              "    <tr>\n",
              "      <th>8</th>\n",
              "      <td>176565</td>\n",
              "      <td>Macbook Pro Laptop</td>\n",
              "      <td>1</td>\n",
              "      <td>1700.00</td>\n",
              "      <td>04/24/19 10:38</td>\n",
              "      <td>915 Willow St, San Francisco, CA 94016</td>\n",
              "    </tr>\n",
              "    <tr>\n",
              "      <th>9</th>\n",
              "      <td>176566</td>\n",
              "      <td>Wired Headphones</td>\n",
              "      <td>1</td>\n",
              "      <td>11.99</td>\n",
              "      <td>04/08/19 14:05</td>\n",
              "      <td>83 7th St, Boston, MA 02215</td>\n",
              "    </tr>\n",
              "  </tbody>\n",
              "</table>\n",
              "</div>"
            ],
            "text/plain": [
              "  Order ID  ...                        Purchase Address\n",
              "0   176558  ...            917 1st St, Dallas, TX 75001\n",
              "1   176559  ...       682 Chestnut St, Boston, MA 02215\n",
              "2   176560  ...    669 Spruce St, Los Angeles, CA 90001\n",
              "3   176560  ...    669 Spruce St, Los Angeles, CA 90001\n",
              "4   176561  ...       333 8th St, Los Angeles, CA 90001\n",
              "5   176562  ...  381 Wilson St, San Francisco, CA 94016\n",
              "6   176563  ...        668 Center St, Seattle, WA 98101\n",
              "7   176564  ...         790 Ridge St, Atlanta, GA 30301\n",
              "8   176565  ...  915 Willow St, San Francisco, CA 94016\n",
              "9   176566  ...             83 7th St, Boston, MA 02215\n",
              "\n",
              "[10 rows x 6 columns]"
            ]
          },
          "metadata": {
            "tags": []
          },
          "execution_count": 5
        }
      ]
    },
    {
      "cell_type": "markdown",
      "metadata": {
        "id": "hZhz6jbFvoAu",
        "colab_type": "text"
      },
      "source": [
        "Rearranging dataframe according to price\n",
        "- this will help to recommend cheap products with costly products\n",
        "\n"
      ]
    },
    {
      "cell_type": "code",
      "metadata": {
        "id": "Bh3AiG5Lrxdb",
        "colab_type": "code",
        "colab": {
          "base_uri": "https://localhost:8080/",
          "height": 204
        },
        "outputId": "c28ff421-8966-4ddd-c445-633bc96cf3c0"
      },
      "source": [
        "azn_data.sort_values([\"Price Each\"], axis=0, ascending=False, inplace=True)\n",
        "azn_data.head()"
      ],
      "execution_count": null,
      "outputs": [
        {
          "output_type": "execute_result",
          "data": {
            "text/html": [
              "<div>\n",
              "<style scoped>\n",
              "    .dataframe tbody tr th:only-of-type {\n",
              "        vertical-align: middle;\n",
              "    }\n",
              "\n",
              "    .dataframe tbody tr th {\n",
              "        vertical-align: top;\n",
              "    }\n",
              "\n",
              "    .dataframe thead th {\n",
              "        text-align: right;\n",
              "    }\n",
              "</style>\n",
              "<table border=\"1\" class=\"dataframe\">\n",
              "  <thead>\n",
              "    <tr style=\"text-align: right;\">\n",
              "      <th></th>\n",
              "      <th>Order ID</th>\n",
              "      <th>Product</th>\n",
              "      <th>Quantity Ordered</th>\n",
              "      <th>Price Each</th>\n",
              "      <th>Order Date</th>\n",
              "      <th>Purchase Address</th>\n",
              "    </tr>\n",
              "  </thead>\n",
              "  <tbody>\n",
              "    <tr>\n",
              "      <th>159359</th>\n",
              "      <td>264454</td>\n",
              "      <td>Macbook Pro Laptop</td>\n",
              "      <td>1</td>\n",
              "      <td>1700.0</td>\n",
              "      <td>10/24/19 16:22</td>\n",
              "      <td>49 Highland St, Los Angeles, CA 90001</td>\n",
              "    </tr>\n",
              "    <tr>\n",
              "      <th>30818</th>\n",
              "      <td>296210</td>\n",
              "      <td>Macbook Pro Laptop</td>\n",
              "      <td>1</td>\n",
              "      <td>1700.0</td>\n",
              "      <td>12/18/19 11:41</td>\n",
              "      <td>763 Cherry St, San Francisco, CA 94016</td>\n",
              "    </tr>\n",
              "    <tr>\n",
              "      <th>139385</th>\n",
              "      <td>281623</td>\n",
              "      <td>Macbook Pro Laptop</td>\n",
              "      <td>1</td>\n",
              "      <td>1700.0</td>\n",
              "      <td>11/04/19 08:22</td>\n",
              "      <td>969 Wilson St, Dallas, TX 75001</td>\n",
              "    </tr>\n",
              "    <tr>\n",
              "      <th>182921</th>\n",
              "      <td>256433</td>\n",
              "      <td>Macbook Pro Laptop</td>\n",
              "      <td>1</td>\n",
              "      <td>1700.0</td>\n",
              "      <td>09/19/19 10:55</td>\n",
              "      <td>586 12th St, Los Angeles, CA 90001</td>\n",
              "    </tr>\n",
              "    <tr>\n",
              "      <th>106912</th>\n",
              "      <td>164076</td>\n",
              "      <td>Macbook Pro Laptop</td>\n",
              "      <td>1</td>\n",
              "      <td>1700.0</td>\n",
              "      <td>03/09/19 11:21</td>\n",
              "      <td>908 Forest St, San Francisco, CA 94016</td>\n",
              "    </tr>\n",
              "  </tbody>\n",
              "</table>\n",
              "</div>"
            ],
            "text/plain": [
              "       Order ID  ...                        Purchase Address\n",
              "159359   264454  ...   49 Highland St, Los Angeles, CA 90001\n",
              "30818    296210  ...  763 Cherry St, San Francisco, CA 94016\n",
              "139385   281623  ...         969 Wilson St, Dallas, TX 75001\n",
              "182921   256433  ...      586 12th St, Los Angeles, CA 90001\n",
              "106912   164076  ...  908 Forest St, San Francisco, CA 94016\n",
              "\n",
              "[5 rows x 6 columns]"
            ]
          },
          "metadata": {
            "tags": []
          },
          "execution_count": 6
        }
      ]
    },
    {
      "cell_type": "markdown",
      "metadata": {
        "id": "cNZInIp3vMWd",
        "colab_type": "text"
      },
      "source": [
        "# Merging Products with same order ID\n",
        "Here products with same order ID were merged in a single cell\n",
        "\n",
        "Unwanted data was removed"
      ]
    },
    {
      "cell_type": "code",
      "metadata": {
        "id": "TKwsFNx6y3KN",
        "colab_type": "code",
        "colab": {
          "base_uri": "https://localhost:8080/",
          "height": 204
        },
        "outputId": "feb0a72a-9080-41c2-c4bb-162172206250"
      },
      "source": [
        "data_amazon= azn_data.groupby(['Order ID'])['Product'].apply(lambda x: ','.join(x.astype(str))).reset_index()\n",
        "data_amazon.head()"
      ],
      "execution_count": null,
      "outputs": [
        {
          "output_type": "execute_result",
          "data": {
            "text/html": [
              "<div>\n",
              "<style scoped>\n",
              "    .dataframe tbody tr th:only-of-type {\n",
              "        vertical-align: middle;\n",
              "    }\n",
              "\n",
              "    .dataframe tbody tr th {\n",
              "        vertical-align: top;\n",
              "    }\n",
              "\n",
              "    .dataframe thead th {\n",
              "        text-align: right;\n",
              "    }\n",
              "</style>\n",
              "<table border=\"1\" class=\"dataframe\">\n",
              "  <thead>\n",
              "    <tr style=\"text-align: right;\">\n",
              "      <th></th>\n",
              "      <th>Order ID</th>\n",
              "      <th>Product</th>\n",
              "    </tr>\n",
              "  </thead>\n",
              "  <tbody>\n",
              "    <tr>\n",
              "      <th>0</th>\n",
              "      <td>141234</td>\n",
              "      <td>iPhone</td>\n",
              "    </tr>\n",
              "    <tr>\n",
              "      <th>1</th>\n",
              "      <td>141235</td>\n",
              "      <td>Lightning Charging Cable</td>\n",
              "    </tr>\n",
              "    <tr>\n",
              "      <th>2</th>\n",
              "      <td>141236</td>\n",
              "      <td>Wired Headphones</td>\n",
              "    </tr>\n",
              "    <tr>\n",
              "      <th>3</th>\n",
              "      <td>141237</td>\n",
              "      <td>27in FHD Monitor</td>\n",
              "    </tr>\n",
              "    <tr>\n",
              "      <th>4</th>\n",
              "      <td>141238</td>\n",
              "      <td>Wired Headphones</td>\n",
              "    </tr>\n",
              "  </tbody>\n",
              "</table>\n",
              "</div>"
            ],
            "text/plain": [
              "  Order ID                   Product\n",
              "0   141234                    iPhone\n",
              "1   141235  Lightning Charging Cable\n",
              "2   141236          Wired Headphones\n",
              "3   141237          27in FHD Monitor\n",
              "4   141238          Wired Headphones"
            ]
          },
          "metadata": {
            "tags": []
          },
          "execution_count": 7
        }
      ]
    },
    {
      "cell_type": "markdown",
      "metadata": {
        "id": "Z0gRDqWDwknE",
        "colab_type": "text"
      },
      "source": [
        "# Spliting the merged data\n",
        "Products grouped in a single cell is splited into many column and removed order ID\n"
      ]
    },
    {
      "cell_type": "code",
      "metadata": {
        "id": "tPcOtD6E4KDw",
        "colab_type": "code",
        "colab": {
          "base_uri": "https://localhost:8080/",
          "height": 204
        },
        "outputId": "3c1a692e-1aba-4961-c6b7-bf59986af882"
      },
      "source": [
        "data_amazon = data_amazon['Product'].str.split(',', expand = True)\n",
        "data_amazon.head()"
      ],
      "execution_count": null,
      "outputs": [
        {
          "output_type": "execute_result",
          "data": {
            "text/html": [
              "<div>\n",
              "<style scoped>\n",
              "    .dataframe tbody tr th:only-of-type {\n",
              "        vertical-align: middle;\n",
              "    }\n",
              "\n",
              "    .dataframe tbody tr th {\n",
              "        vertical-align: top;\n",
              "    }\n",
              "\n",
              "    .dataframe thead th {\n",
              "        text-align: right;\n",
              "    }\n",
              "</style>\n",
              "<table border=\"1\" class=\"dataframe\">\n",
              "  <thead>\n",
              "    <tr style=\"text-align: right;\">\n",
              "      <th></th>\n",
              "      <th>0</th>\n",
              "      <th>1</th>\n",
              "      <th>2</th>\n",
              "      <th>3</th>\n",
              "      <th>4</th>\n",
              "    </tr>\n",
              "  </thead>\n",
              "  <tbody>\n",
              "    <tr>\n",
              "      <th>0</th>\n",
              "      <td>iPhone</td>\n",
              "      <td>None</td>\n",
              "      <td>None</td>\n",
              "      <td>None</td>\n",
              "      <td>None</td>\n",
              "    </tr>\n",
              "    <tr>\n",
              "      <th>1</th>\n",
              "      <td>Lightning Charging Cable</td>\n",
              "      <td>None</td>\n",
              "      <td>None</td>\n",
              "      <td>None</td>\n",
              "      <td>None</td>\n",
              "    </tr>\n",
              "    <tr>\n",
              "      <th>2</th>\n",
              "      <td>Wired Headphones</td>\n",
              "      <td>None</td>\n",
              "      <td>None</td>\n",
              "      <td>None</td>\n",
              "      <td>None</td>\n",
              "    </tr>\n",
              "    <tr>\n",
              "      <th>3</th>\n",
              "      <td>27in FHD Monitor</td>\n",
              "      <td>None</td>\n",
              "      <td>None</td>\n",
              "      <td>None</td>\n",
              "      <td>None</td>\n",
              "    </tr>\n",
              "    <tr>\n",
              "      <th>4</th>\n",
              "      <td>Wired Headphones</td>\n",
              "      <td>None</td>\n",
              "      <td>None</td>\n",
              "      <td>None</td>\n",
              "      <td>None</td>\n",
              "    </tr>\n",
              "  </tbody>\n",
              "</table>\n",
              "</div>"
            ],
            "text/plain": [
              "                          0     1     2     3     4\n",
              "0                    iPhone  None  None  None  None\n",
              "1  Lightning Charging Cable  None  None  None  None\n",
              "2          Wired Headphones  None  None  None  None\n",
              "3          27in FHD Monitor  None  None  None  None\n",
              "4          Wired Headphones  None  None  None  None"
            ]
          },
          "metadata": {
            "tags": []
          },
          "execution_count": 8
        }
      ]
    },
    {
      "cell_type": "markdown",
      "metadata": {
        "id": "lZt_ugVyxHAU",
        "colab_type": "text"
      },
      "source": [
        "#Clearing data\n",
        "- removed data of single bought product\n",
        "- removed columns of three or more bought product"
      ]
    },
    {
      "cell_type": "code",
      "metadata": {
        "id": "t52O44zZ79ua",
        "colab_type": "code",
        "colab": {
          "base_uri": "https://localhost:8080/",
          "height": 419
        },
        "outputId": "33070d31-6ef6-4f63-e66f-a3420d55e0df"
      },
      "source": [
        "data_amazon=data_amazon.dropna(subset =[1]).reset_index(drop=True)\n",
        "data_amazon.drop(data_amazon.columns[2:],axis=1,inplace=True)\n",
        "data_amazon"
      ],
      "execution_count": null,
      "outputs": [
        {
          "output_type": "execute_result",
          "data": {
            "text/html": [
              "<div>\n",
              "<style scoped>\n",
              "    .dataframe tbody tr th:only-of-type {\n",
              "        vertical-align: middle;\n",
              "    }\n",
              "\n",
              "    .dataframe tbody tr th {\n",
              "        vertical-align: top;\n",
              "    }\n",
              "\n",
              "    .dataframe thead th {\n",
              "        text-align: right;\n",
              "    }\n",
              "</style>\n",
              "<table border=\"1\" class=\"dataframe\">\n",
              "  <thead>\n",
              "    <tr style=\"text-align: right;\">\n",
              "      <th></th>\n",
              "      <th>0</th>\n",
              "      <th>1</th>\n",
              "    </tr>\n",
              "  </thead>\n",
              "  <tbody>\n",
              "    <tr>\n",
              "      <th>0</th>\n",
              "      <td>Wired Headphones</td>\n",
              "      <td>USB-C Charging Cable</td>\n",
              "    </tr>\n",
              "    <tr>\n",
              "      <th>1</th>\n",
              "      <td>Apple Airpods Headphones</td>\n",
              "      <td>AA Batteries (4-pack)</td>\n",
              "    </tr>\n",
              "    <tr>\n",
              "      <th>2</th>\n",
              "      <td>Vareebadd Phone</td>\n",
              "      <td>Wired Headphones</td>\n",
              "    </tr>\n",
              "    <tr>\n",
              "      <th>3</th>\n",
              "      <td>Google Phone</td>\n",
              "      <td>USB-C Charging Cable</td>\n",
              "    </tr>\n",
              "    <tr>\n",
              "      <th>4</th>\n",
              "      <td>Google Phone</td>\n",
              "      <td>Bose SoundSport Headphones</td>\n",
              "    </tr>\n",
              "    <tr>\n",
              "      <th>...</th>\n",
              "      <td>...</td>\n",
              "      <td>...</td>\n",
              "    </tr>\n",
              "    <tr>\n",
              "      <th>7131</th>\n",
              "      <td>Macbook Pro Laptop</td>\n",
              "      <td>Wired Headphones</td>\n",
              "    </tr>\n",
              "    <tr>\n",
              "      <th>7132</th>\n",
              "      <td>Google Phone</td>\n",
              "      <td>Wired Headphones</td>\n",
              "    </tr>\n",
              "    <tr>\n",
              "      <th>7133</th>\n",
              "      <td>iPhone</td>\n",
              "      <td>Wired Headphones</td>\n",
              "    </tr>\n",
              "    <tr>\n",
              "      <th>7134</th>\n",
              "      <td>iPhone</td>\n",
              "      <td>Lightning Charging Cable</td>\n",
              "    </tr>\n",
              "    <tr>\n",
              "      <th>7135</th>\n",
              "      <td>34in Ultrawide Monitor</td>\n",
              "      <td>Lightning Charging Cable</td>\n",
              "    </tr>\n",
              "  </tbody>\n",
              "</table>\n",
              "<p>7136 rows × 2 columns</p>\n",
              "</div>"
            ],
            "text/plain": [
              "                             0                           1\n",
              "0             Wired Headphones        USB-C Charging Cable\n",
              "1     Apple Airpods Headphones       AA Batteries (4-pack)\n",
              "2              Vareebadd Phone            Wired Headphones\n",
              "3                 Google Phone        USB-C Charging Cable\n",
              "4                 Google Phone  Bose SoundSport Headphones\n",
              "...                        ...                         ...\n",
              "7131        Macbook Pro Laptop            Wired Headphones\n",
              "7132              Google Phone            Wired Headphones\n",
              "7133                    iPhone            Wired Headphones\n",
              "7134                    iPhone    Lightning Charging Cable\n",
              "7135    34in Ultrawide Monitor    Lightning Charging Cable\n",
              "\n",
              "[7136 rows x 2 columns]"
            ]
          },
          "metadata": {
            "tags": []
          },
          "execution_count": 9
        }
      ]
    },
    {
      "cell_type": "markdown",
      "metadata": {
        "id": "w6UPEHa111Mq",
        "colab_type": "text"
      },
      "source": [
        "Column 0 contains products with higher price as compared with products of column 1"
      ]
    },
    {
      "cell_type": "markdown",
      "metadata": {
        "id": "erFeRgIMD5cF",
        "colab_type": "text"
      },
      "source": [
        "# Which product is often bought?"
      ]
    },
    {
      "cell_type": "code",
      "metadata": {
        "id": "DEZQ4HG1Aw9w",
        "colab_type": "code",
        "colab": {
          "base_uri": "https://localhost:8080/",
          "height": 478
        },
        "outputId": "fdc4cb9d-274d-4c1b-e0aa-010090bba609"
      },
      "source": [
        "max_prod=data_amazon[0].value_counts()\n",
        "max_prod.plot(kind=\"bar\",figsize=(15,5))"
      ],
      "execution_count": null,
      "outputs": [
        {
          "output_type": "execute_result",
          "data": {
            "text/plain": [
              "<matplotlib.axes._subplots.AxesSubplot at 0x7f17e2539eb8>"
            ]
          },
          "metadata": {
            "tags": []
          },
          "execution_count": 10
        },
        {
          "output_type": "display_data",
          "data": {
            "image/png": "[encoded data removed]",
            "text/plain": [
              "<Figure size 1080x360 with 1 Axes>"
            ]
          },
          "metadata": {
            "tags": [],
            "needs_background": "light"
          }
        }
      ]
    },
    {
      "cell_type": "markdown",
      "metadata": {
        "id": "g_BjZQh7GLkt",
        "colab_type": "text"
      },
      "source": [
        "# Generating recomendations for iphone"
      ]
    },
    {
      "cell_type": "code",
      "metadata": {
        "id": "Ih2l3bVMGLF4",
        "colab_type": "code",
        "colab": {
          "base_uri": "https://localhost:8080/",
          "height": 480
        },
        "outputId": "139ae076-01bf-4b34-b0cd-968cf096e152"
      },
      "source": [
        "colors=['#F44336','#E91E63','#9C27B4','#FFC107','#FF9800','#FF5722']\n",
        "iphone_idx = data_amazon[0] == \"iPhone\"\n",
        "iphone_data = data_amazon[iphone_idx]\n",
        "iphone_recommend=iphone_data[1].value_counts()\n",
        "iphone_recommend.plot(kind='bar',figsize=(15,5),color=colors)"
      ],
      "execution_count": null,
      "outputs": [
        {
          "output_type": "execute_result",
          "data": {
            "text/plain": [
              "<matplotlib.axes._subplots.AxesSubplot at 0x7f17e2ce4438>"
            ]
          },
          "metadata": {
            "tags": []
          },
          "execution_count": 11
        },
        {
          "output_type": "display_data",
          "data": {
            "image/png": "[encoded data removed]",
            "text/plain": [
              "<Figure size 1080x360 with 1 Axes>"
            ]
          },
          "metadata": {
            "tags": [],
            "needs_background": "light"
          }
        }
      ]
    },
    {
      "cell_type": "markdown",
      "metadata": {
        "id": "lutAQcVkG7Ah",
        "colab_type": "text"
      },
      "source": [
        "This shows \"Lighting Charging Cable\" is highly recommended for iphone"
      ]
    },
    {
      "cell_type": "markdown",
      "metadata": {
        "id": "NNI0MsBUInK9",
        "colab_type": "text"
      },
      "source": [
        "# Generating recomendations for Google phone"
      ]
    },
    {
      "cell_type": "code",
      "metadata": {
        "id": "Q85ZQqthEQIQ",
        "colab_type": "code",
        "colab": {
          "base_uri": "https://localhost:8080/",
          "height": 478
        },
        "outputId": "a26856e3-f3d0-472d-b749-8cc0affc0cee"
      },
      "source": [
        "gphone_idx = data_amazon[0] == \"Google Phone\"\n",
        "gphone_data = data_amazon[gphone_idx]\n",
        "gphone_recommend=gphone_data[1].value_counts()\n",
        "gphone_recommend.plot(kind='bar',figsize=(15,5),color=colors)"
      ],
      "execution_count": null,
      "outputs": [
        {
          "output_type": "execute_result",
          "data": {
            "text/plain": [
              "<matplotlib.axes._subplots.AxesSubplot at 0x7f17e35197f0>"
            ]
          },
          "metadata": {
            "tags": []
          },
          "execution_count": 12
        },
        {
          "output_type": "display_data",
          "data": {
            "image/png": "[encoded data removed]",
            "text/plain": [
              "<Figure size 1080x360 with 1 Axes>"
            ]
          },
          "metadata": {
            "tags": [],
            "needs_background": "light"
          }
        }
      ]
    },
    {
      "cell_type": "markdown",
      "metadata": {
        "id": "CdxIAhEIJE7I",
        "colab_type": "text"
      },
      "source": [
        "This shows \"Lighting Charging Cable\" is highly recommended with Google phone"
      ]
    },
    {
      "cell_type": "markdown",
      "metadata": {
        "id": "wDIoLN8PNX9b",
        "colab_type": "text"
      },
      "source": [
        "#Most common Recommendation for all the products"
      ]
    },
    {
      "cell_type": "code",
      "metadata": {
        "id": "tIF6isOeNZWv",
        "colab_type": "code",
        "colab": {
          "base_uri": "https://localhost:8080/",
          "height": 372
        },
        "outputId": "b22a77cf-9da2-4064-ab2c-63939a41f8a6"
      },
      "source": [
        "col0_list=data_amazon[0].unique()\n",
        "col0_list=col0_list.tolist()\n",
        "for i in range(0,19):\n",
        "  idx = data_amazon[0] == col0_list[i]\n",
        "  col0_data = data_amazon[idx]\n",
        "  col0_recommend=col0_data[1].value_counts()\n",
        "  col0_recommend.plot(kind='bar',color='g')"
      ],
      "execution_count": null,
      "outputs": [
        {
          "output_type": "display_data",
          "data": {
            "image/png": "[encoded data removed]",
            "text/plain": [
              "<Figure size 432x288 with 1 Axes>"
            ]
          },
          "metadata": {
            "tags": [],
            "needs_background": "light"
          }
        }
      ]
    },
    {
      "cell_type": "markdown",
      "metadata": {
        "id": "wUumIdBsJQdV",
        "colab_type": "text"
      },
      "source": [
        "# Recommendation Generator\n",
        "This generator generates recommendations for inputted product"
      ]
    },
    {
      "cell_type": "code",
      "metadata": {
        "id": "DGetwllWNB2U",
        "colab_type": "code",
        "colab": {
          "base_uri": "https://localhost:8080/",
          "height": 716
        },
        "outputId": "cd3358b3-7312-4a30-8b1e-3be15823f636"
      },
      "source": [
        "print(\"Products Available \\n\")\n",
        "print(data_amazon[0].unique())\n",
        "print(\"\\n Select one from above available Products \\n\")\n",
        "prod_name=str(input(\"Enter product you bought :\"))\n",
        "try:\n",
        "  prod_idx = data_amazon[0] == prod_name\n",
        "  prod_data = data_amazon[prod_idx]\n",
        "  prod_recommend=prod_data[1].value_counts()\n",
        "  print(\"\\n Recommendations for this product are \\n\")\n",
        "  prod_recommend.plot(kind='bar',figsize=(15,5),color=colors)\n",
        "except:\n",
        "  print(\"\\n Sorry! No recommendations available \\n\")"
      ],
      "execution_count": null,
      "outputs": [
        {
          "output_type": "stream",
          "text": [
            "Products Available \n",
            "\n",
            "['Wired Headphones' 'Apple Airpods Headphones' 'Vareebadd Phone'\n",
            " 'Google Phone' 'iPhone' 'Lightning Charging Cable' '27in FHD Monitor'\n",
            " 'AA Batteries (4-pack)' '34in Ultrawide Monitor'\n",
            " 'Bose SoundSport Headphones' '20in Monitor' '27in 4K Gaming Monitor'\n",
            " 'USB-C Charging Cable' 'Macbook Pro Laptop' 'ThinkPad Laptop' 'LG Dryer'\n",
            " 'Flatscreen TV' 'LG Washing Machine' 'AAA Batteries (4-pack)']\n",
            "\n",
            " Select one from above available Products \n",
            "\n",
            "Enter product you bought :34in Ultrawide Monitor\n",
            "\n",
            " Recommendations for this product are \n",
            "\n"
          ],
          "name": "stdout"
        },
        {
          "output_type": "display_data",
          "data": {
            "image/png": "[encoded data removed]",
            "text/plain": [
              "<Figure size 1080x360 with 1 Axes>"
            ]
          },
          "metadata": {
            "tags": [],
            "needs_background": "light"
          }
        }
      ]
    }
  ]
}